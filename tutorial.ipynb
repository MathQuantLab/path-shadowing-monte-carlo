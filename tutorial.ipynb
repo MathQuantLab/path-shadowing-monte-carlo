{
 "cells": [
  {
   "cell_type": "markdown",
   "metadata": {},
   "source": [
    "# How to use the `utils.fetch_ticker_data` function\n",
    "## Some initial remarks\n",
    "- Firstly, please read the documentation of the function!!!\n",
    "\n",
    "- Secondly, this is a [coroutine function](https://en.wikipedia.org/wiki/Coroutine), so you MUST use `await` to call it, in a notebook or everywhere else. If you use it inside another function, then it MUST be declared as `async def`.\n",
    "In a notebook, this is handled automatically.\n",
    "\n",
    "If you call it without `await`, you will get a coroutine object  or the associated future, not the underlying object you want to retrieve.\n",
    "However, it is possible to initate the task at some point with [`task = asyncio.create_task()`](https://docs.python.org/3/library/asyncio-task.html#creating-tasks) and then await the result later with `result = await task`.\n",
    "## How to use it\n",
    "This function provides a way to fetch data from the Yahoo Finance API. It is a very simple function, but it can be very useful.\n",
    "Moreover, for S&P500 data, it also provides data from the Wall Street Journal."
   ]
  },
  {
   "cell_type": "code",
   "execution_count": null,
   "metadata": {},
   "outputs": [],
   "source": [
    "import utils"
   ]
  },
  {
   "cell_type": "markdown",
   "metadata": {},
   "source": [
    "Used without any arguments, the function will retrive all the data available for the S&P500 index from the Yahoo Finance API. The data will be returned as a pandas DataFrame."
   ]
  },
  {
   "cell_type": "code",
   "execution_count": null,
   "metadata": {},
   "outputs": [],
   "source": [
    "await utils.fetch_ticker_data()  # Never forget the await keyword"
   ]
  },
  {
   "cell_type": "markdown",
   "metadata": {},
   "source": [
    "One can also pass several tickers. Then the output is a dictionary, with the tickers as keys and the data as values."
   ]
  },
  {
   "cell_type": "code",
   "execution_count": null,
   "metadata": {},
   "outputs": [],
   "source": [
    "values = await utils.fetch_ticker_data(\"MSFT\", \"NVDA\")\n",
    "display(values[\"MSFT\"])\n",
    "display(values[\"NVDA\"])"
   ]
  },
  {
   "cell_type": "markdown",
   "metadata": {},
   "source": [
    "All arguments passed directly without any keyword will be considered as ticker.\n",
    "\n",
    "The `start` and `end` dates can also be passed as arguments. The dates must be in the format `'YYYY-MM-DD'`.\n",
    "This will return the data for the S&P500 index in the specified period."
   ]
  },
  {
   "cell_type": "code",
   "execution_count": 7,
   "metadata": {},
   "outputs": [],
   "source": [
    "await utils.fetch_ticker_data(start=\"2021-01-01\", end=\"2021-01-10\")"
   ]
  },
  {
   "cell_type": "markdown",
   "metadata": {},
   "source": [
    "To use data from the Wall Street Journal, one must pass the `wsj` argument as `True`. This will return the data from the Wall Street Journal for the S&P500 index.\n",
    "\n",
    "`start` and `end` dates can also be passed to the Wall Street Journal data."
   ]
  },
  {
   "cell_type": "code",
   "execution_count": null,
   "metadata": {},
   "outputs": [],
   "source": [
    "await utils.fetch_ticker_data(wsj=True)"
   ]
  },
  {
   "cell_type": "code",
   "execution_count": null,
   "metadata": {},
   "outputs": [],
   "source": [
    "await utils.fetch_ticker_data(wsj=True, start=\"1986-01-01\", end=\"1986-01-10\")"
   ]
  },
  {
   "cell_type": "markdown",
   "metadata": {},
   "source": [
    "If any ticker other than the S&P500 index is passed with `wsj=True`, the function will fail."
   ]
  },
  {
   "cell_type": "code",
   "execution_count": null,
   "metadata": {},
   "outputs": [],
   "source": [
    "try:\n",
    "    await utils.fetch_ticker_data(\"AAPL\", \"GOOG\", \"MSFT\", wsj=True)\n",
    "except ValueError as e:\n",
    "    print(\"Exception raised for tickers with WSJ data:\", e, sep=\"\\n\")"
   ]
  }
 ],
 "metadata": {
  "kernelspec": {
   "display_name": ".venv",
   "language": "python",
   "name": "python3"
  },
  "language_info": {
   "codemirror_mode": {
    "name": "ipython",
    "version": 3
   },
   "file_extension": ".py",
   "mimetype": "text/x-python",
   "name": "python",
   "nbconvert_exporter": "python",
   "pygments_lexer": "ipython3",
   "version": "3.10.11"
  }
 },
 "nbformat": 4,
 "nbformat_minor": 2
}
