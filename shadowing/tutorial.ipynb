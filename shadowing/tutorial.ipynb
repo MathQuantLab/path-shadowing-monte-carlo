{
 "cells": [
  {
   "cell_type": "code",
   "execution_count": null,
   "metadata": {},
   "outputs": [],
   "source": [
    "# a small tutorial on how to use the main class of the repo \"PathShadowing\"\n",
    "# this is done on very bad generated data (\"gaussian\") so don't trust the results\n",
    "# use this code with your own data (both generated and observed)\n",
    "import os\n",
    "from pathlib import Path\n",
    "import numpy as np\n",
    "import torch\n",
    "import matplotlib.pyplot as plt\n",
    "import warnings\n",
    "\n",
    "warnings.filterwarnings(\"ignore\")\n",
    "\n",
    "from scatspectra import PriceData, MRWGenerator\n",
    "from shadowing import (\n",
    "    Softmax,\n",
    "    compute_smile,\n",
    "    PathShadowing,\n",
    "    Foveal,\n",
    "    RelativeMSE,\n",
    "    PredictionContext,\n",
    "    ArrayType,\n",
    ")\n",
    "from shadowing.utils import windows\n",
    "\n",
    "CACHE_PATH = Path(os.getcwd()) / \"_cache\"  # replace with your own cache path\n",
    "\n",
    "\n",
    "def _torch(x: ArrayType) -> torch.Tensor:\n",
    "    \"\"\"Convert x to a torch float tensor.\"\"\"\n",
    "    if isinstance(x, torch.Tensor):\n",
    "        return x\n",
    "    return torch.tensor(x, dtype=torch.float32)"
   ]
  },
  {
   "cell_type": "markdown",
   "metadata": {},
   "source": [
    "# 1. Generated Dataset\n",
    "\n",
    "The generated data to look for close time-series (\"shadowing\" paths).\n",
    "\n",
    "You should come up with your own generated market data (log-prices). \n",
    "\n",
    "Here we generate data from a multifractal random walk (MRW) for simplicity,\n",
    "\n",
    "of course, one should perform path shadowing in a more accurate model e.g. Scattering Spectra model. "
   ]
  },
  {
   "cell_type": "code",
   "execution_count": null,
   "metadata": {},
   "outputs": [],
   "source": [
    "# create synthetic dataset\n",
    "R = 2048\n",
    "\n",
    "lnx_mrw = MRWGenerator(T=4096 + 1, H=0.5, lam=0.2, cache_path=CACHE_PATH).load(R=R)\n",
    "dlnx_mrw = np.diff(lnx_mrw, axis=-1)\n",
    "print(\"Dataset shape (nb_long_time_series, nb_channels, nb_times): \", dlnx_mrw.shape)\n",
    "\n",
    "fig, axes = plt.subplots(3, 1, figsize=(15, 2))\n",
    "for i, ax in enumerate(axes):\n",
    "    ax.plot(dlnx_mrw[i, 0, :], color=\"black\", linewidth=0.5)\n",
    "    ax.axhline(0.0, color=\"black\", linewidth=0.25)\n",
    "    ax.set_ylim(-0.03, 0.03)"
   ]
  },
  {
   "cell_type": "code",
   "execution_count": null,
   "metadata": {},
   "outputs": [],
   "source": [
    "# observed data e.g. past time-series at different dates\n",
    "# replace with the data you want to predict the future of\n",
    "lnx_context = MRWGenerator(T=252 + 1, H=0.5, lam=0.2).load(R=1)\n",
    "dlnx_context = np.diff(lnx_context, axis=-1)\n",
    "dlnx_context = windows(dlnx_context, w=126, s=32)[0, 0, :, None, :]\n",
    "print(\"Context shape (nb_dates, nb_channels, nb_times): \", dlnx_context.shape)\n",
    "\n",
    "plt.figure(figsize=(15, 1))\n",
    "plt.plot(np.arange(-126 + 1, 1), dlnx_context[1, 0, :], color=\"black\", linewidth=1.0)\n",
    "plt.axhline(0.0, color=\"black\", linewidth=0.25)"
   ]
  },
  {
   "cell_type": "markdown",
   "metadata": {},
   "source": [
    "# 2. Path Shadowing\n",
    "\n",
    "Given observed log-returns gather the closest paths from the generated dataset."
   ]
  },
  {
   "cell_type": "code",
   "execution_count": null,
   "metadata": {},
   "outputs": [],
   "source": [
    "# embedding for dimensionality reduction\n",
    "embedding = Foveal(\n",
    "    alpha=1.15,  # cover the past at exponential speed\n",
    "    beta=0.9,  # look with a weight power-law decay of 0.9\n",
    "    max_context=126,  # look at half-year in the observed past\n",
    ")\n",
    "\n",
    "# distance between embedded paths\n",
    "distance = RelativeMSE()\n",
    "\n",
    "# object for path shadowing\n",
    "obj = PathShadowing(\n",
    "    embedding=embedding,\n",
    "    distance=distance,\n",
    "    dataset=dlnx_mrw,\n",
    "    context=PredictionContext(horizon=252),  # the size of such paths in the future\n",
    ")\n",
    "\n",
    "# PERFORM PATH SHADOWING\n",
    "distances, close_paths = obj.shadow(\n",
    "    dlnx_context,\n",
    "    k=8192,  # the number of closest paths (from generated dataset) to retain\n",
    "    n_splits=8,\n",
    "    cuda=False,  # set to True, if GPU available, for accelarations\n",
    ")"
   ]
  },
  {
   "cell_type": "code",
   "execution_count": null,
   "metadata": {},
   "outputs": [],
   "source": [
    "# some vizualization\n",
    "i_date = 0\n",
    "\n",
    "context_size = dlnx_context.shape[-1]  # nb of days in the past\n",
    "d = embedding.dim  # embedding dimension\n",
    "horizon = 252\n",
    "\n",
    "# get 3 closest paths at this date\n",
    "idces = np.argpartition(distances[i_date, :], 3)[:3]\n",
    "dlnx_closest = np.stack([close_paths[i_date][i_path] for i_path in idces])\n",
    "\n",
    "# embed them\n",
    "dlnx_context_emb = embedding(_torch(dlnx_context))\n",
    "dlnx_closest_emb = embedding(_torch(dlnx_closest))\n",
    "\n",
    "fig, axes = plt.subplots(3, 3, figsize=(15, 5))\n",
    "axes[0, 0].set_title(\"distance distribution\")\n",
    "axes[0, 0].hist(distances[i_date], bins=50)\n",
    "axes[0, 1].set_title(\"embedded space (past)\")\n",
    "for i, ax in enumerate(axes[:, 1]):\n",
    "    ts_past = np.arange(-d + 1, 1)\n",
    "    ax.plot(\n",
    "        ts_past, dlnx_context_emb[i_date, 0, :].flip(-1), color=\"red\", linewidth=0.75\n",
    "    )\n",
    "    ax.plot(ts_past, dlnx_closest_emb[i, 0, :].flip(-1), color=\"black\", linewidth=0.75)\n",
    "axes[0, 2].set_title(\"path space\")\n",
    "for i, ax in enumerate(axes[:, 2]):\n",
    "    ts_past = np.arange(-context_size + 1, 1)\n",
    "    ts = np.arange(-context_size + 1, horizon + 1)\n",
    "    ax.plot(ts_past, dlnx_context[i_date, 0, :], color=\"red\", linewidth=0.5)\n",
    "    ax.plot(ts, dlnx_closest[i, 0, :], color=\"black\", linewidth=0.5)"
   ]
  },
  {
   "cell_type": "markdown",
   "metadata": {},
   "source": [
    "# Volatility Prediction"
   ]
  },
  {
   "cell_type": "code",
   "execution_count": null,
   "metadata": {},
   "outputs": [],
   "source": [
    "from shadowing.statistics import realized_variance\n",
    "\n",
    "# maturities\n",
    "Ts = np.array([7, 25, 75])\n",
    "\n",
    "# the quantity to predict, should be a function of paths returning an array of statistics\n",
    "# e.g. realized variance, takes a path, return a scalar per maturity\n",
    "to_predict = lambda dlnx: realized_variance(dlnx, Ts=Ts, vol=True)\n",
    "\n",
    "# perform prediction by averaging over the k closest paths for each prediction date\n",
    "# see method 'predict' for more direct way\n",
    "predictions, _ = obj.predict_from_paths(\n",
    "    distances, close_paths, to_predict=to_predict, proba_name=\"softmax\", eta=0.1\n",
    ")\n",
    "\n",
    "print(f\"n_dates={predictions.shape[0]}, nb_maturities={predictions.shape[1]}\")"
   ]
  },
  {
   "cell_type": "markdown",
   "metadata": {},
   "source": [
    "# Option Pricing\n",
    "\n",
    "Shows how to perform option pricing in two contexts\n"
   ]
  },
  {
   "cell_type": "code",
   "execution_count": null,
   "metadata": {},
   "outputs": [],
   "source": [
    "Ts = np.array([7, 25, 75])  # maturities in days\n",
    "Ms = np.linspace(-2.0, 2.0, 9)  # rescaled log-moneyness\n",
    "r = 0.00  # interest rate"
   ]
  },
  {
   "cell_type": "markdown",
   "metadata": {},
   "source": [
    "### Smile at a given date"
   ]
  },
  {
   "cell_type": "code",
   "execution_count": null,
   "metadata": {},
   "outputs": [],
   "source": [
    "i_date = 0\n",
    "\n",
    "# averaging operator in Hedged HMC\n",
    "ave = Softmax(distances[i_date, :], eta=0.075)\n",
    "\n",
    "# the shadowing paths extending the currently observed past\n",
    "x = PriceData(dlnx=close_paths[i_date, :, 0, context_size:], x_init=100.0).x\n",
    "\n",
    "# HMC on such shadowing paths\n",
    "smile_conditional = compute_smile(x, Ts, Ms, r, ave)\n",
    "\n",
    "# plotting\n",
    "_, ax = plt.subplots(1, 1, figsize=(3, 2))\n",
    "smile_conditional.plot(ax=ax, color=\"coral\", rescale=True)\n",
    "ax.set_ylim(0.0, 0.6)"
   ]
  },
  {
   "cell_type": "markdown",
   "metadata": {},
   "source": [
    "### Average Smile"
   ]
  },
  {
   "cell_type": "code",
   "execution_count": null,
   "metadata": {},
   "outputs": [],
   "source": [
    "# snippets of MRW price trajectories\n",
    "lnx_mrw_snippets = windows(lnx_mrw[0, 0, :], w=252, s=1)\n",
    "x = PriceData(lnx=lnx_mrw_snippets, x_init=100.0).x\n",
    "\n",
    "# HMC on such snippets\n",
    "smile_avg = compute_smile(x, Ts, Ms, r, ave=None)\n",
    "\n",
    "# plotting\n",
    "_, ax = plt.subplots(1, 1, figsize=(3, 2))\n",
    "smile_avg.plot(ax=ax, color=\"lightskyblue\", rescale=True)\n",
    "ax.set_ylim(0.0, 0.6)"
   ]
  }
 ],
 "metadata": {
  "kernelspec": {
   "display_name": "shadowing",
   "language": "python",
   "name": "python3"
  },
  "language_info": {
   "codemirror_mode": {
    "name": "ipython",
    "version": 3
   },
   "file_extension": ".py",
   "mimetype": "text/x-python",
   "name": "python",
   "nbconvert_exporter": "python",
   "pygments_lexer": "ipython3",
   "version": "3.10.11"
  }
 },
 "nbformat": 4,
 "nbformat_minor": 2
}
