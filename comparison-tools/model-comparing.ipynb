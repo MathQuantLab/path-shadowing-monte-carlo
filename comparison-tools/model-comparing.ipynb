{
 "cells": [
  {
   "cell_type": "code",
   "execution_count": null,
   "metadata": {},
   "outputs": [],
   "source": [
    "import numpy as np\n",
    "import matplotlib.pyplot as plt\n",
    "\n",
    "from scipy.stats import kurtosis, skew, norm, expon\n",
    "\n",
    "import aiohttp, pandas as pd, io\n",
    "from shadowing.utils import windows"
   ]
  },
  {
   "cell_type": "markdown",
   "metadata": {},
   "source": [
    "# Reminders on kurtosis and skewness\n",
    "## Kurtosis\n",
    "Kurtosis is a measure of the \"tailedness\" of the probability distribution of a real-valued random variable. It is a descriptor of the shape of a probability distribution and provides information about the tails of the distribution.\n",
    "It requires the calculation of the fourth central moment.\n",
    "$$\\beta_2 = \\frac{\\mu_4}{\\sigma^4}=\\mathbb E\\left[\\left(\\frac{X-\\mu}{\\sigma}\\right)^4\\right]$$\n",
    "where $\\mu_4$ is the fourth central moment and $\\sigma$ is the standard deviation.\n",
    "## Skewness\n",
    "Skewness is a measure of the asymmetry of the probability distribution of a real-valued random variable about its mean. The skewness value can be positive, zero, negative, or undefined.\n",
    "It requires the calculation of the third central moment.\n",
    "$$\\gamma_1 = \\frac{\\mu_3}{\\sigma^3}=\\mathbb E\\left[\\left(\\frac{X-\\mu}{\\sigma}\\right)^3\\right]$$\n",
    "where $\\mu_3$ is the third central moment and $\\sigma$ is the standard deviation.\n",
    "## Relationship between kurtosis and skewness\n",
    "The kurtosis is related to the skewness by the following formula:\n",
    "$$\\beta_2 = \\gamma_1^2 + 1$$\n",
    "## Kurtosis and skewness of some distributions\n",
    "- Normal distribution: $\\beta_2=3$ and $\\gamma_1=0$\n",
    "- Uniform distribution: $\\beta_2=-\\frac{6}{5}$ and $\\gamma_1=0$\n",
    "- Exponential distribution: $\\beta_2=9$ and $\\gamma_1=2$\n",
    "- Cauchy distribution: $\\beta_2=\\infty$ and $\\gamma_1=\\infty$\n",
    "\n",
    "## Visualizing kurtosis and skewness"
   ]
  },
  {
   "cell_type": "code",
   "execution_count": null,
   "metadata": {},
   "outputs": [],
   "source": [
    "normal_sample = np.random.normal(0, 1, 10_000)\n",
    "plt.figure(figsize=(10, 5))\n",
    "plt.hist(normal_sample, density=True, alpha=0.5, label=\"Normal Distribution\", bins=100)\n",
    "plt.title(\"Histogram of normal distribution\")\n",
    "plt.xlabel(\"Value\")\n",
    "plt.ylabel(\"Frequency\")\n",
    "plt.plot(\n",
    "    np.linspace(np.min(normal_sample), np.max(normal_sample), 100),\n",
    "    norm.pdf(np.linspace(np.min(normal_sample), np.max(normal_sample), 100)),\n",
    "    label=\"PDF\",\n",
    "    color=\"black\",\n",
    ")\n",
    "plt.legend(loc=\"upper right\")\n",
    "plt.axis(xmin=np.min(normal_sample), xmax=np.max(normal_sample))\n",
    "plt.show()\n",
    "print(\"Kurtosis of normal distribution: \", kurtosis(normal_sample, fisher=False))\n",
    "print(\"Skewness of normal distribution: \", skew(normal_sample))"
   ]
  },
  {
   "cell_type": "code",
   "execution_count": null,
   "metadata": {},
   "outputs": [],
   "source": [
    "expo_sample = np.random.exponential(1, 10_000)\n",
    "plt.figure(figsize=(10, 5))\n",
    "plt.hist(expo_sample, density=True, alpha=0.5, label=\"Exponential Distribution\", bins=100)\n",
    "plt.title(\"Histogram of exponential distribution\")\n",
    "plt.xlabel(\"Value\")\n",
    "plt.ylabel(\"Frequency\")\n",
    "plt.plot(\n",
    "    np.linspace(np.min(expo_sample), np.max(expo_sample), 100),\n",
    "    expon.pdf(np.linspace(np.min(expo_sample), np.max(expo_sample), 100)),\n",
    "    label=\"PDF\",\n",
    "    color=\"black\",\n",
    ")\n",
    "plt.legend(loc=\"upper right\")\n",
    "plt.axis(xmin=np.min(expo_sample), xmax=np.max(expo_sample))\n",
    "plt.show()\n",
    "print(\"Kurtosis of exponential distribution: \", kurtosis(expo_sample, fisher=False))\n",
    "print(\"Skewness of exponential distribution: \", skew(expo_sample))"
   ]
  },
  {
   "cell_type": "markdown",
   "metadata": {},
   "source": [
    "# Black-Scholes model\n",
    "We are now going to compare the Black-Scholes model with the Scattering Spectra model. The Black-Scholes model is a mathematical model for the dynamics of a financial market containing derivative investment instruments. From the Black-Scholes model, we can derive the following formula for the price of a call option:\n",
    "$$C(S,t)=S_0N(d_1)-Ke^{-r(T-t)}N(d_2)$$\n",
    "where:\n",
    "- $C(S,t)$ is the price of the call option;\n",
    "- $S_0$ is the current price of the underlying asset;\n",
    "- $K$ is the strike price;\n",
    "- $r$ is the risk-free interest rate;\n",
    "- $N$ is the cumulative distribution function of the standard normal distribution;\n",
    "- $\\displaystyle d_1=\\frac{\\ln\\left(\\frac{S_0}{K}\\right)+(r+\\frac{\\sigma^2}{2})(T-t)}{\\sigma\\sqrt{T-t}}$;\n",
    "- $\\displaystyle d_2=d_1-\\sigma\\sqrt{T-t}$;\n",
    "- $\\sigma$ is the volatility of the underlying asset;\n",
    "- $T$ is the time to maturity.\n"
   ]
  },
  {
   "cell_type": "code",
   "execution_count": null,
   "metadata": {},
   "outputs": [],
   "source": [
    "# Settings constants\n",
    "T = 1\n",
    "N = 1000\n",
    "K = 1000\n",
    "r = 0.05\n",
    "S = np.linspace(100, 2 * K, N)\n",
    "sigma = 0.2\n",
    "d1 = (np.log(S / K) + (r + 0.5 * sigma ** 2) * T) / (sigma * np.sqrt(T))\n",
    "d2 = d1 - sigma * np.sqrt(T)"
   ]
  },
  {
   "cell_type": "code",
   "execution_count": null,
   "metadata": {},
   "outputs": [],
   "source": [
    "plt.figure(figsize=(10, 5))\n",
    "plt.plot(S, S * norm.cdf(d1) - K * np.exp(-r * T) * norm.cdf(d2), label=\"Call Option\")\n",
    "plt.legend(loc=\"upper right\")\n",
    "plt.title(\"Black-Scholes Call Option\")\n",
    "plt.xlabel(\"Stock Price\")\n",
    "plt.ylabel(\"Option Price\")\n",
    "plt.show()"
   ]
  },
  {
   "cell_type": "markdown",
   "metadata": {},
   "source": [
    "To use this model, we need to also simulate $S$ using either past data and fitting a model or using a stochastic process.\n",
    "\n",
    "First, we are goign to use a Brownian motion:\n",
    "$$S_t=S_0\\mathrm e^{(\\mu-\\frac{\\sigma^2}{2})t+\\sigma W_t}$$"
   ]
  },
  {
   "cell_type": "code",
   "execution_count": null,
   "metadata": {},
   "outputs": [],
   "source": [
    "brownian_motion = np.cumsum(np.random.normal(0, 1, N))\n",
    "S0 = 100\n",
    "\n",
    "price = S0 * np.exp(\n",
    "    (r - 0.5 * sigma**2) * np.linspace(0, T, N) + sigma * brownian_motion\n",
    ")\n",
    "\n",
    "plt.figure(figsize=(10, 5))\n",
    "plt.plot(np.linspace(0, T, N), price, label=\"Brownian Motion\")\n",
    "plt.legend(loc=\"upper right\")\n",
    "plt.title(\"Brownian Motion\")\n",
    "plt.xlabel(\"Time\")\n",
    "plt.ylabel(\"Value\")\n",
    "plt.show()"
   ]
  },
  {
   "cell_type": "markdown",
   "metadata": {},
   "source": [
    "# Scaterring spectra model\n",
    "This time, we are going to use the scattering spectra model.\n",
    "This model can be used with time series that have stationary increments.\n",
    "\n",
    "For this test, I will use real data from the S&P500 index."
   ]
  },
  {
   "cell_type": "code",
   "execution_count": null,
   "metadata": {},
   "outputs": [],
   "source": [
    "async with aiohttp.ClientSession() as session:\n",
    "    async with session.get(\"https://financial-data.shriimpe.fr/api/ticker/history/^GSPC?diff=True&operator=log&fields=Close\", headers={\"Accept\": \"python/pickle\"}) as response:\n",
    "        df: pd.DataFrame = pd.read_pickle(io.BytesIO(await response.content.read()))\n",
    "\n",
    "df.head()"
   ]
  },
  {
   "cell_type": "code",
   "execution_count": null,
   "metadata": {},
   "outputs": [],
   "source": [
    "plt.figure(figsize=(10, 5))\n",
    "plt.title(\"S&P 500 log prices\")\n",
    "plt.plot(df[\"Close\"])\n",
    "plt.show()"
   ]
  },
  {
   "cell_type": "code",
   "execution_count": null,
   "metadata": {},
   "outputs": [],
   "source": [
    "context = windows(df[\"Close\"].values, 100, 10)\n",
    "print(\"Context shape:\", context.shape)"
   ]
  },
  {
   "cell_type": "code",
   "execution_count": null,
   "metadata": {},
   "outputs": [],
   "source": [
    "plt.figure(figsize=(10, 5))\n",
    "plt.title(\"Scattering spectra from S&P 500 log prices\")\n",
    "plt.plot(range(len(context[1, :])), context[1, :])\n",
    "plt.show()"
   ]
  }
 ],
 "metadata": {
  "kernelspec": {
   "display_name": ".venv",
   "language": "python",
   "name": "python3"
  },
  "language_info": {
   "codemirror_mode": {
    "name": "ipython",
    "version": 3
   },
   "file_extension": ".py",
   "mimetype": "text/x-python",
   "name": "python",
   "nbconvert_exporter": "python",
   "pygments_lexer": "ipython3",
   "version": "3.10.11"
  }
 },
 "nbformat": 4,
 "nbformat_minor": 2
}
