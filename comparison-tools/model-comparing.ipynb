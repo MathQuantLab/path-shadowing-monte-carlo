{
 "cells": [
  {
   "cell_type": "code",
   "execution_count": null,
   "metadata": {},
   "outputs": [],
   "source": [
    "from scatspectra import PriceData, MRWGenerator\n",
    "import numpy as np\n",
    "import matplotlib.pyplot as plt\n",
    "\n",
    "from scipy.stats import kurtosis, skew, norm, expon, cauchy"
   ]
  },
  {
   "cell_type": "markdown",
   "metadata": {},
   "source": [
    "# Reminders on kurtosis and skewness\n",
    "## Kurtosis\n",
    "Kurtosis is a measure of the \"tailedness\" of the probability distribution of a real-valued random variable. It is a descriptor of the shape of a probability distribution and provides information about the tails of the distribution.\n",
    "It requires the calculation of the fourth central moment.\n",
    "$$\\beta_2 = \\frac{\\mu_4}{\\sigma^4}=\\mathbb E\\left[\\left(\\frac{X-\\mu}{\\sigma}\\right)^4\\right]$$\n",
    "where $\\mu_4$ is the fourth central moment and $\\sigma$ is the standard deviation.\n",
    "## Skewness\n",
    "Skewness is a measure of the asymmetry of the probability distribution of a real-valued random variable about its mean. The skewness value can be positive, zero, negative, or undefined.\n",
    "It requires the calculation of the third central moment.\n",
    "$$\\gamma_1 = \\frac{\\mu_3}{\\sigma^3}=\\mathbb E\\left[\\left(\\frac{X-\\mu}{\\sigma}\\right)^3\\right]$$\n",
    "where $\\mu_3$ is the third central moment and $\\sigma$ is the standard deviation.\n",
    "## Relationship between kurtosis and skewness\n",
    "The kurtosis is related to the skewness by the following formula:\n",
    "$$\\beta_2 = \\gamma_1^2 + 1$$\n",
    "## Kurtosis and skewness of some distributions\n",
    "- Normal distribution: $\\beta_2=3$ and $\\gamma_1=0$\n",
    "- Uniform distribution: $\\beta_2=-\\frac{6}{5}$ and $\\gamma_1=0$\n",
    "- Exponential distribution: $\\beta_2=9$ and $\\gamma_1=2$\n",
    "- Cauchy distribution: $\\beta_2=\\infty$ and $\\gamma_1=\\infty$\n",
    "\n",
    "## Visualizing kurtosis and skewness"
   ]
  },
  {
   "cell_type": "code",
   "execution_count": null,
   "metadata": {},
   "outputs": [],
   "source": [
    "normal_sample = np.random.normal(0, 1, 10_000)\n",
    "plt.figure(figsize=(10, 5))\n",
    "plt.hist(normal_sample, density=True, alpha=0.5, label=\"Normal Distribution\", bins=100)\n",
    "plt.title(\"Histogram of normal distribution\")\n",
    "plt.xlabel(\"Value\")\n",
    "plt.ylabel(\"Frequency\")\n",
    "plt.plot(\n",
    "    np.linspace(np.min(normal_sample), np.max(normal_sample), 100),\n",
    "    norm.pdf(np.linspace(np.min(normal_sample), np.max(normal_sample), 100)),\n",
    "    label=\"PDF\",\n",
    "    color=\"black\",\n",
    ")\n",
    "plt.legend(loc=\"upper right\")\n",
    "plt.axis(xmin=np.min(normal_sample), xmax=np.max(normal_sample))\n",
    "plt.show()\n",
    "print(\"Kurtosis of normal distribution: \", kurtosis(normal_sample, fisher=False))\n",
    "print(\"Skewness of normal distribution: \", skew(normal_sample))"
   ]
  },
  {
   "cell_type": "code",
   "execution_count": null,
   "metadata": {},
   "outputs": [],
   "source": [
    "expo_sample = np.random.exponential(1, 10_000)\n",
    "plt.figure(figsize=(10, 5))\n",
    "plt.hist(expo_sample, density=True, alpha=0.5, label=\"Exponential Distribution\", bins=100)\n",
    "plt.title(\"Histogram of exponential distribution\")\n",
    "plt.xlabel(\"Value\")\n",
    "plt.ylabel(\"Frequency\")\n",
    "plt.plot(\n",
    "    np.linspace(np.min(expo_sample), np.max(expo_sample), 100),\n",
    "    expon.pdf(np.linspace(np.min(expo_sample), np.max(expo_sample), 100)),\n",
    "    label=\"PDF\",\n",
    "    color=\"black\",\n",
    ")\n",
    "plt.legend(loc=\"upper right\")\n",
    "plt.axis(xmin=np.min(expo_sample), xmax=np.max(expo_sample))\n",
    "plt.show()\n",
    "print(\"Kurtosis of exponential distribution: \", kurtosis(expo_sample, fisher=False))\n",
    "print(\"Skewness of exponential distribution: \", skew(expo_sample))"
   ]
  }
 ],
 "metadata": {
  "kernelspec": {
   "display_name": ".venv",
   "language": "python",
   "name": "python3"
  },
  "language_info": {
   "codemirror_mode": {
    "name": "ipython",
    "version": 3
   },
   "file_extension": ".py",
   "mimetype": "text/x-python",
   "name": "python",
   "nbconvert_exporter": "python",
   "pygments_lexer": "ipython3",
   "version": "3.10.11"
  }
 },
 "nbformat": 4,
 "nbformat_minor": 2
}
